{
  "nbformat": 4,
  "nbformat_minor": 0,
  "metadata": {
    "colab": {
      "name": "IRIS_DecisionTree.ipynb",
      "version": "0.3.2",
      "provenance": []
    },
    "kernelspec": {
      "name": "python3",
      "display_name": "Python 3"
    }
  },
  "cells": [
    {
      "cell_type": "code",
      "metadata": {
        "id": "uXRUtSsbbkvF",
        "colab_type": "code",
        "colab": {}
      },
      "source": [
        "from sklearn.datasets import load_iris\n",
        "import matplotlib.pyplot as plt"
      ],
      "execution_count": 0,
      "outputs": []
    },
    {
      "cell_type": "code",
      "metadata": {
        "id": "hHK_7lDEvmnx",
        "colab_type": "code",
        "colab": {}
      },
      "source": [
        "# now loading iris data only\n",
        "iris=load_iris()"
      ],
      "execution_count": 0,
      "outputs": []
    },
    {
      "cell_type": "code",
      "metadata": {
        "id": "3K4ku3NFvwXg",
        "colab_type": "code",
        "colab": {
          "base_uri": "https://localhost:8080/",
          "height": 35
        },
        "outputId": "8c8f5a4e-70db-44dc-b6b3-783ec99cc930"
      },
      "source": [
        "dir(iris)"
      ],
      "execution_count": 3,
      "outputs": [
        {
          "output_type": "execute_result",
          "data": {
            "text/plain": [
              "['DESCR', 'data', 'feature_names', 'filename', 'target', 'target_names']"
            ]
          },
          "metadata": {
            "tags": []
          },
          "execution_count": 3
        }
      ]
    },
    {
      "cell_type": "code",
      "metadata": {
        "id": "GutmmrJnvyRo",
        "colab_type": "code",
        "colab": {
          "base_uri": "https://localhost:8080/",
          "height": 90
        },
        "outputId": "ad7534bc-4c9e-4148-8b5c-319996ad0ef6"
      },
      "source": [
        "# iris.DESCR\n",
        "iris.feature_names\n"
      ],
      "execution_count": 4,
      "outputs": [
        {
          "output_type": "execute_result",
          "data": {
            "text/plain": [
              "['sepal length (cm)',\n",
              " 'sepal width (cm)',\n",
              " 'petal length (cm)',\n",
              " 'petal width (cm)']"
            ]
          },
          "metadata": {
            "tags": []
          },
          "execution_count": 4
        }
      ]
    },
    {
      "cell_type": "code",
      "metadata": {
        "id": "TA4BZhblv83t",
        "colab_type": "code",
        "colab": {
          "base_uri": "https://localhost:8080/",
          "height": 35
        },
        "outputId": "d2e73810-d12d-427b-8c34-a7f628875a40"
      },
      "source": [
        "# labels or answer\n",
        "iris.target_names"
      ],
      "execution_count": 5,
      "outputs": [
        {
          "output_type": "execute_result",
          "data": {
            "text/plain": [
              "array(['setosa', 'versicolor', 'virginica'], dtype='<U10')"
            ]
          },
          "metadata": {
            "tags": []
          },
          "execution_count": 5
        }
      ]
    },
    {
      "cell_type": "code",
      "metadata": {
        "id": "-wOISr4Imevt",
        "colab_type": "code",
        "colab": {}
      },
      "source": [
        "# actual data with attributes\n",
        "features=iris.data\n",
        "# features.shape\n",
        "# type(features)"
      ],
      "execution_count": 0,
      "outputs": []
    },
    {
      "cell_type": "code",
      "metadata": {
        "id": "Y-awGRxSmpZ8",
        "colab_type": "code",
        "colab": {
          "base_uri": "https://localhost:8080/",
          "height": 35
        },
        "outputId": "45c2cb13-edde-4b90-96dc-5d1671a47dc3"
      },
      "source": [
        "# now time for label data that will be exactly same as number of features data\n",
        "label=iris.target\n",
        "label.shape"
      ],
      "execution_count": 8,
      "outputs": [
        {
          "output_type": "execute_result",
          "data": {
            "text/plain": [
              "(150,)"
            ]
          },
          "metadata": {
            "tags": []
          },
          "execution_count": 8
        }
      ]
    },
    {
      "cell_type": "code",
      "metadata": {
        "id": "8mR09eo3nKsI",
        "colab_type": "code",
        "colab": {
          "base_uri": "https://localhost:8080/",
          "height": 35
        },
        "outputId": "50b6be35-6dca-4d36-e32f-6847a7bf5170"
      },
      "source": [
        "iris.filename"
      ],
      "execution_count": 9,
      "outputs": [
        {
          "output_type": "execute_result",
          "data": {
            "text/plain": [
              "'/usr/local/lib/python3.6/dist-packages/sklearn/datasets/data/iris.csv'"
            ]
          },
          "metadata": {
            "tags": []
          },
          "execution_count": 9
        }
      ]
    },
    {
      "cell_type": "code",
      "metadata": {
        "id": "QtJbp5utnSYe",
        "colab_type": "code",
        "colab": {}
      },
      "source": [
        "sepal_length=features[0:,0]\n",
        "sepal_width=features[0:,1]"
      ],
      "execution_count": 0,
      "outputs": []
    },
    {
      "cell_type": "code",
      "metadata": {
        "id": "1Y5O4hi3niuH",
        "colab_type": "code",
        "colab": {
          "base_uri": "https://localhost:8080/",
          "height": 301
        },
        "outputId": "84c2b939-8a59-449c-cb15-800fc36ef32f"
      },
      "source": [
        "plt.xlabel(\"length\")\n",
        "plt.ylabel(\"width\")\n",
        "plt.scatter(sepal_length,sepal_width,label='sepal_data',marker=\"^\")\n",
        "plt.scatter(features[0:,2],features[0:,3],label='Petal_data',marker='x')\n",
        "plt.legend()"
      ],
      "execution_count": 12,
      "outputs": [
        {
          "output_type": "execute_result",
          "data": {
            "text/plain": [
              "<matplotlib.legend.Legend at 0x7f19cbaf7390>"
            ]
          },
          "metadata": {
            "tags": []
          },
          "execution_count": 12
        },
        {
          "output_type": "display_data",
          "data": {
            "image/png": "[encoded data removed]",
            "text/plain": [
              "<Figure size 432x288 with 1 Axes>"
            ]
          },
          "metadata": {
            "tags": []
          }
        }
      ]
    },
    {
      "cell_type": "code",
      "metadata": {
        "id": "ze70L6oQofal",
        "colab_type": "code",
        "colab": {}
      },
      "source": [
        "# now time for separating data into 2 categories\n",
        "# 1st training data\n",
        "# 2nd Testing data -- Questions\n",
        "from sklearn.model_selection import train_test_split"
      ],
      "execution_count": 0,
      "outputs": []
    },
    {
      "cell_type": "code",
      "metadata": {
        "id": "eQQs8Wvfo_Qu",
        "colab_type": "code",
        "colab": {}
      },
      "source": [
        "# train_data,test_data,label_train,label_test=train_test_split(features,label,test_size=0.1,random_state=0)\n",
        "train_data,test_data,label_train,label_test=train_test_split(features,label,test_size=0.1)"
      ],
      "execution_count": 0,
      "outputs": []
    },
    {
      "cell_type": "code",
      "metadata": {
        "id": "omr7sRtOpcrx",
        "colab_type": "code",
        "colab": {}
      },
      "source": [
        "# calling decisions tree classifier\n",
        "from sklearn.tree import DecisionTreeClassifier\n",
        "clf=DecisionTreeClassifier()"
      ],
      "execution_count": 0,
      "outputs": []
    },
    {
      "cell_type": "code",
      "metadata": {
        "id": "CO0Cqql5p62a",
        "colab_type": "code",
        "colab": {}
      },
      "source": [
        "trained=clf.fit(train_data,label_train)\n"
      ],
      "execution_count": 0,
      "outputs": []
    },
    {
      "cell_type": "code",
      "metadata": {
        "id": "6jhRKUoBqDor",
        "colab_type": "code",
        "colab": {
          "base_uri": "https://localhost:8080/",
          "height": 35
        },
        "outputId": "6847ae7a-846b-4ddd-98f4-932e8fdfe41b"
      },
      "source": [
        "predict_flowers=trained.predict(test_data)\n",
        "predict_flowers"
      ],
      "execution_count": 17,
      "outputs": [
        {
          "output_type": "execute_result",
          "data": {
            "text/plain": [
              "array([0, 0, 0, 0, 2, 2, 0, 0, 1, 1, 1, 1, 0, 1, 2])"
            ]
          },
          "metadata": {
            "tags": []
          },
          "execution_count": 17
        }
      ]
    },
    {
      "cell_type": "code",
      "metadata": {
        "id": "Yn1vKLvYqQ7z",
        "colab_type": "code",
        "colab": {
          "base_uri": "https://localhost:8080/",
          "height": 35
        },
        "outputId": "c633a0ed-8ed3-4d97-e4d0-61a82e9be782"
      },
      "source": [
        "label_test"
      ],
      "execution_count": 18,
      "outputs": [
        {
          "output_type": "execute_result",
          "data": {
            "text/plain": [
              "array([0, 0, 0, 0, 2, 2, 0, 0, 1, 1, 1, 1, 0, 1, 2])"
            ]
          },
          "metadata": {
            "tags": []
          },
          "execution_count": 18
        }
      ]
    },
    {
      "cell_type": "code",
      "metadata": {
        "id": "L_3Xxu9gqTkE",
        "colab_type": "code",
        "colab": {}
      },
      "source": [
        "from sklearn.metrics import accuracy_score"
      ],
      "execution_count": 0,
      "outputs": []
    },
    {
      "cell_type": "code",
      "metadata": {
        "id": "NAS9eL_XqeOo",
        "colab_type": "code",
        "colab": {
          "base_uri": "https://localhost:8080/",
          "height": 35
        },
        "outputId": "f889d9f1-7367-45ac-80cd-de5dcd17a558"
      },
      "source": [
        "accuracy_score(label_test,predict_flowers)"
      ],
      "execution_count": 20,
      "outputs": [
        {
          "output_type": "execute_result",
          "data": {
            "text/plain": [
              "1.0"
            ]
          },
          "metadata": {
            "tags": []
          },
          "execution_count": 20
        }
      ]
    },
    {
      "cell_type": "code",
      "metadata": {
        "id": "Ue5JsaQPqmEf",
        "colab_type": "code",
        "colab": {}
      },
      "source": [
        ""
      ],
      "execution_count": 0,
      "outputs": []
    }
  ]
}